{
 "cells": [
  {
   "cell_type": "markdown",
   "id": "09c9b381-60c5-4a61-91d4-0fb7e4233cda",
   "metadata": {},
   "source": [
    "# 一些有趣的python\n"
   ]
  },
  {
   "cell_type": "raw",
   "id": "820a0bcf-f2e4-44e6-86e2-0a0c5d8654ee",
   "metadata": {},
   "source": [
    "%env     用于设置环境变量。\r\n",
    "%ru     n用于执行Python代码。\r\n",
    "%sto   re用于访问多个笔记本之变量间的。 \r\n",
    "%%t   ime给出单执行格的执时间。\r\n",
    "%%writefile将单元格的内容保存到文件中。 \r\n",
    "%   pycat显示外部文件的内容。      \r\n",
    "%pdb用于调试。\r\n",
    "%matplotlib    inline用于抑制最后一行中函数的输\n",
    "\n",
    "详细的解释：https://cloud.tencent.com/developer/article/1562478出中函数的输出"
   ]
  },
  {
   "cell_type": "code",
   "execution_count": 102,
   "id": "469c1cf2-50de-47ff-a30d-29614f2e4957",
   "metadata": {},
   "outputs": [],
   "source": [
    "# 所用的库\n",
    "import numpy as np"
   ]
  },
  {
   "cell_type": "code",
   "execution_count": 103,
   "id": "ca9ea3d3-5a3b-40c4-b135-2ae3684bab43",
   "metadata": {},
   "outputs": [],
   "source": [
    "# 显示整个cell的输出，而不需print()\n",
    "from IPython.core.interactiveshell import InteractiveShell\n",
    "InteractiveShell.ast_node_interactivity = \"all\"\n"
   ]
  },
  {
   "cell_type": "code",
   "execution_count": 104,
   "id": "2516174f-d3ae-43e0-8888-909b80b2d930",
   "metadata": {},
   "outputs": [
    {
     "data": {
      "text/plain": [
       "1"
      ]
     },
     "execution_count": 104,
     "metadata": {},
     "output_type": "execute_result"
    },
    {
     "data": {
      "text/plain": [
       "2"
      ]
     },
     "execution_count": 104,
     "metadata": {},
     "output_type": "execute_result"
    },
    {
     "data": {
      "text/plain": [
       "[3, 4, 5]"
      ]
     },
     "execution_count": 104,
     "metadata": {},
     "output_type": "execute_result"
    }
   ],
   "source": [
    "a, b, *_ = [1, 2, 3, 4, 5]\n",
    "a\n",
    "b\n",
    "_"
   ]
  },
  {
   "cell_type": "code",
   "execution_count": 105,
   "id": "7a5f3112-e2e4-49bd-b4b2-b8f3b72ba656",
   "metadata": {},
   "outputs": [
    {
     "name": "stdout",
     "output_type": "stream",
     "text": [
      "Amazing!\n",
      "         117 function calls (114 primitive calls) in 0.000 seconds\n",
      "\n",
      "   Ordered by: standard name\n",
      "\n",
      "   ncalls  tottime  percall  cumtime  percall filename:lineno(function)\n",
      "        1    0.000    0.000    0.000    0.000 <frozen abc>:121(__subclasscheck__)\n",
      "        1    0.000    0.000    0.000    0.000 <frozen importlib._bootstrap>:1390(_handle_fromlist)\n",
      "        1    0.000    0.000    0.000    0.000 _weakrefset.py:75(__contains__)\n",
      "        1    0.000    0.000    0.000    0.000 asyncio.py:215(add_callback)\n",
      "        6    0.000    0.000    0.000    0.000 asyncio.py:472(__getattribute__)\n",
      "        1    0.000    0.000    0.000    0.000 asyncio.py:543(_start_select)\n",
      "        1    0.000    0.000    0.000    0.000 attrsettr.py:42(__getattr__)\n",
      "        1    0.000    0.000    0.000    0.000 attrsettr.py:65(_get_attr_opt)\n",
      "        1    0.000    0.000    0.000    0.000 base_events.py:2005(get_debug)\n",
      "        1    0.000    0.000    0.000    0.000 base_events.py:539(_check_closed)\n",
      "        1    0.000    0.000    0.000    0.000 base_events.py:785(call_soon)\n",
      "        1    0.000    0.000    0.000    0.000 base_events.py:814(_call_soon)\n",
      "        4    0.000    0.000    0.000    0.000 enum.py:1129(__new__)\n",
      "        9    0.000    0.000    0.000    0.000 enum.py:1544(_get_value)\n",
      "        1    0.000    0.000    0.000    0.000 enum.py:1551(__or__)\n",
      "        2    0.000    0.000    0.000    0.000 enum.py:1562(__and__)\n",
      "        4    0.000    0.000    0.000    0.000 enum.py:726(__call__)\n",
      "        1    0.000    0.000    0.000    0.000 events.py:36(__init__)\n",
      "        1    0.000    0.000    0.000    0.000 iostream.py:137(_event_pipe)\n",
      "        1    0.000    0.000    0.000    0.000 iostream.py:258(schedule)\n",
      "        2    0.000    0.000    0.000    0.000 iostream.py:519(_is_master_process)\n",
      "        2    0.000    0.000    0.000    0.000 iostream.py:546(_schedule_flush)\n",
      "        2    0.000    0.000    0.000    0.000 iostream.py:624(write)\n",
      "        1    0.000    0.000    0.000    0.000 queue.py:209(_qsize)\n",
      "        1    0.000    0.000    0.000    0.000 queue.py:97(empty)\n",
      "      2/1    0.000    0.000    0.000    0.000 socket.py:621(send)\n",
      "        1    0.000    0.000    0.000    0.000 threading.py:1153(_wait_for_tstate_lock)\n",
      "        1    0.000    0.000    0.000    0.000 threading.py:1220(is_alive)\n",
      "        1    0.000    0.000    0.000    0.000 threading.py:299(__enter__)\n",
      "        1    0.000    0.000    0.000    0.000 threading.py:302(__exit__)\n",
      "        1    0.000    0.000    0.000    0.000 threading.py:394(notify)\n",
      "        1    0.000    0.000    0.000    0.000 threading.py:601(is_set)\n",
      "        1    0.000    0.000    0.000    0.000 typing.py:1194(__instancecheck__)\n",
      "        1    0.000    0.000    0.000    0.000 typing.py:1465(__subclasscheck__)\n",
      "        1    0.000    0.000    0.000    0.000 windows_events.py:704(_register_with_iocp)\n",
      "        1    0.000    0.000    0.000    0.000 zmqstream.py:562(receiving)\n",
      "        1    0.000    0.000    0.000    0.000 zmqstream.py:566(sending)\n",
      "        1    0.000    0.000    0.000    0.000 zmqstream.py:687(_rebuild_io_state)\n",
      "        1    0.000    0.000    0.000    0.000 zmqstream.py:710(_update_handler)\n",
      "        1    0.000    0.000    0.000    0.000 {built-in method _abc._abc_subclasscheck}\n",
      "        1    0.000    0.000    0.000    0.000 {built-in method _asyncio.get_running_loop}\n",
      "        1    0.000    0.000    0.000    0.000 {built-in method _contextvars.copy_context}\n",
      "        1    0.000    0.000    0.000    0.000 {built-in method builtins.getattr}\n",
      "        1    0.000    0.000    0.000    0.000 {built-in method builtins.hasattr}\n",
      "    22/20    0.000    0.000    0.000    0.000 {built-in method builtins.isinstance}\n",
      "        1    0.000    0.000    0.000    0.000 {built-in method builtins.issubclass}\n",
      "        3    0.000    0.000    0.000    0.000 {built-in method builtins.len}\n",
      "        1    0.000    0.000    0.000    0.000 {built-in method builtins.print}\n",
      "        2    0.000    0.000    0.000    0.000 {built-in method nt.getpid}\n",
      "        1    0.000    0.000    0.000    0.000 {method '__enter__' of '_thread.RLock' objects}\n",
      "        3    0.000    0.000    0.000    0.000 {method '__exit__' of '_thread.RLock' objects}\n",
      "        1    0.000    0.000    0.000    0.000 {method '__exit__' of '_thread.lock' objects}\n",
      "        1    0.000    0.000    0.000    0.000 {method '_is_owned' of '_thread.RLock' objects}\n",
      "        1    0.000    0.000    0.000    0.000 {method 'acquire' of '_thread.lock' objects}\n",
      "        2    0.000    0.000    0.000    0.000 {method 'append' of 'collections.deque' objects}\n",
      "        1    0.000    0.000    0.000    0.000 {method 'disable' of '_lsprof.Profiler' objects}\n",
      "        1    0.000    0.000    0.000    0.000 {method 'fileno' of '_socket.socket' objects}\n",
      "        2    0.000    0.000    0.000    0.000 {method 'keys' of 'dict' objects}\n",
      "        1    0.000    0.000    0.000    0.000 {method 'popleft' of 'collections.deque' objects}\n",
      "        1    0.000    0.000    0.000    0.000 {method 'release' of '_thread.lock' objects}\n",
      "        1    0.000    0.000    0.000    0.000 {method 'remove' of 'collections.deque' objects}\n",
      "        1    0.000    0.000    0.000    0.000 {method 'result' of '_asyncio.Future' objects}\n",
      "        1    0.000    0.000    0.000    0.000 {method 'upper' of 'str' objects}\n",
      "        2    0.000    0.000    0.000    0.000 {method 'write' of '_io.StringIO' objects}\n",
      "\n",
      "\n"
     ]
    }
   ],
   "source": [
    "import cProfile\n",
    "def my_function():\n",
    "    print('Amazing!')\n",
    "\n",
    "if __name__ == '__main__':\n",
    "    cProfile.run('my_function()')"
   ]
  },
  {
   "cell_type": "code",
   "execution_count": 133,
   "id": "7f77f14f-0fa4-4432-b2ca-9412ead7818a",
   "metadata": {},
   "outputs": [
    {
     "name": "stderr",
     "output_type": "stream",
     "text": [
      "C:\\Users\\Dell\\AppData\\Local\\Temp\\ipykernel_20408\\87850816.py:3: TqdmDeprecationWarning: This function will be removed in tqdm==5.0.0\n",
      "Please use `tqdm.notebook.tqdm` instead of `tqdm.tqdm_notebook`\n",
      "  for i in tqdm_notebook(range(10),desc='test'):\n"
     ]
    },
    {
     "data": {
      "application/vnd.jupyter.widget-view+json": {
       "model_id": "339f68bdbbc0428fbb39f33b9cdf03b7",
       "version_major": 2,
       "version_minor": 0
      },
      "text/plain": [
       "test:   0%|          | 0/10 [00:00<?, ?it/s]"
      ]
     },
     "metadata": {},
     "output_type": "display_data"
    }
   ],
   "source": [
    "from tqdm import tqdm_notebook\n",
    "from time import sleep\n",
    "for i in tqdm_notebook(range(10),desc='test'):\n",
    "    sleep(0.2)"
   ]
  },
  {
   "cell_type": "code",
   "execution_count": null,
   "id": "cde38a08-2f90-4058-9123-cd3606dbf9fe",
   "metadata": {},
   "outputs": [],
   "source": [
    "# 一维数组索引切片 # [lower:upper:step]\n",
    "a = np.array([1,2,3,4,5])\n",
    "a[:-1]\n",
    "a[1:-2]\n",
    "a[-2:]\n",
    "a[::2]  "
   ]
  },
  {
   "cell_type": "code",
   "execution_count": null,
   "id": "af9f2de7-288c-48a6-a171-e48d0f063a1b",
   "metadata": {},
   "outputs": [],
   "source": [
    "# 多维数组索引切片\n",
    "a = np.array(\n",
    "        [[ 0,  1,  2,  3,  4,  5],\n",
    "       [10, 11, 12, 13, 14, 15],\n",
    "       [20, 21, 22, 23, 24, 25],\n",
    "       [30, 31, 32, 33, 34, 35],\n",
    "       [40, 41, 42, 43, 44, 45],\n",
    "       [50, 51, 52, 53, 54, 55]])\n",
    "a\n",
    "a[0,3:5]      # 第 1 行的第 4 和第 5 两个元素\n",
    "a[-2:, -2:]   # 最后两行的最后两列\n",
    "a[:, 2]       # 第 3 列\n",
    "a[2::2, ::2]  # 取出第 3，5行的奇数列"
   ]
  },
  {
   "cell_type": "code",
   "execution_count": null,
   "id": "de115f4e-9832-440b-ba57-fb3d0dd8891b",
   "metadata": {},
   "outputs": [],
   "source": [
    "# 切片在内存中使用的是引用机制\n"
   ]
  },
  {
   "cell_type": "code",
   "execution_count": null,
   "id": "18d1d9f6-ae63-47f8-a1ea-9f821051eb99",
   "metadata": {},
   "outputs": [],
   "source": [
    "# jupyter notebook 小技巧: 利用 ！ 运行 Shell 和 Bash 命令\n",
    "!pip install numpy\n",
    "!git add .\n",
    "!git commit -m 'Update' \n"
   ]
  },
  {
   "cell_type": "code",
   "execution_count": null,
   "id": "6c2a3dc7-3b80-492f-b257-09cab76af903",
   "metadata": {},
   "outputs": [],
   "source": [
    "# 通过 shift+tab 快捷键，可以在jupyter notebook 内直接打开函数的说明文档\n",
    "import pandas as pd\n",
    "df = pd.DataFrame(data=[[1, 2, 3], [4, 5, 6]],columns=['a','b','c'])\n",
    "df\n",
    "ser = pd.Series([1, 2, 3], index=[\"a\", \"b\", \"c\"])\n",
    "df = pd.DataFrame(data=ser, index=[\"a\", \"c\"])\n",
    "df"
   ]
  },
  {
   "cell_type": "code",
   "execution_count": 1,
   "id": "7929241a-c65e-4176-8196-da31b253d97c",
   "metadata": {},
   "outputs": [
    {
     "data": {
      "text/plain": [
       "[1.0, 4.7, 3.2]"
      ]
     },
     "execution_count": 1,
     "metadata": {},
     "output_type": "execute_result"
    }
   ],
   "source": [
    "aim = [4.7, 3.2]\n",
    "[1.0, *aim]"
   ]
  },
  {
   "cell_type": "code",
   "execution_count": null,
   "id": "938f2174-84c9-4e4d-a8c3-2ff712b45aed",
   "metadata": {},
   "outputs": [],
   "source": []
  }
 ],
 "metadata": {
  "kernelspec": {
   "display_name": "Python 3 (ipykernel)",
   "language": "python",
   "name": "python3"
  },
  "language_info": {
   "codemirror_mode": {
    "name": "ipython",
    "version": 3
   },
   "file_extension": ".py",
   "mimetype": "text/x-python",
   "name": "python",
   "nbconvert_exporter": "python",
   "pygments_lexer": "ipython3",
   "version": "3.12.3"
  }
 },
 "nbformat": 4,
 "nbformat_minor": 5
}
