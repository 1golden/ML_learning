{
 "cells": [
  {
   "cell_type": "markdown",
   "id": "09c9b381-60c5-4a61-91d4-0fb7e4233cda",
   "metadata": {},
   "source": [
    "# 一些有趣的python\n"
   ]
  },
  {
   "cell_type": "code",
   "execution_count": 3,
   "id": "2516174f-d3ae-43e0-8888-909b80b2d930",
   "metadata": {},
   "outputs": [
    {
     "name": "stdout",
     "output_type": "stream",
     "text": [
      "1\n",
      "2\n",
      "[3, 4, 5]\n"
     ]
    }
   ],
   "source": [
    "a, b, *_ = [1, 2, 3, 4, 5]\n",
    "print(a)\n",
    "print(b)\n",
    "print(_)"
   ]
  },
  {
   "cell_type": "code",
   "execution_count": 9,
   "id": "7a5f3112-e2e4-49bd-b4b2-b8f3b72ba656",
   "metadata": {},
   "outputs": [
    {
     "name": "stdout",
     "output_type": "stream",
     "text": [
      "Amazing!\n",
      "         205 function calls (202 primitive calls) in 0.000 seconds\n",
      "\n",
      "   Ordered by: standard name\n",
      "\n",
      "   ncalls  tottime  percall  cumtime  percall filename:lineno(function)\n",
      "        1    0.000    0.000    0.000    0.000 <frozen abc>:121(__subclasscheck__)\n",
      "        1    0.000    0.000    0.000    0.000 <frozen importlib._bootstrap>:1390(_handle_fromlist)\n",
      "        1    0.000    0.000    0.000    0.000 _weakrefset.py:75(__contains__)\n",
      "        1    0.000    0.000    0.000    0.000 asyncio.py:215(add_callback)\n",
      "        6    0.000    0.000    0.000    0.000 asyncio.py:472(__getattribute__)\n",
      "        1    0.000    0.000    0.000    0.000 asyncio.py:543(_start_select)\n",
      "        1    0.000    0.000    0.000    0.000 attrsettr.py:42(__getattr__)\n",
      "        1    0.000    0.000    0.000    0.000 attrsettr.py:65(_get_attr_opt)\n",
      "        1    0.000    0.000    0.000    0.000 base_events.py:2005(get_debug)\n",
      "        1    0.000    0.000    0.000    0.000 base_events.py:539(_check_closed)\n",
      "        1    0.000    0.000    0.000    0.000 base_events.py:785(call_soon)\n",
      "        1    0.000    0.000    0.000    0.000 base_events.py:814(_call_soon)\n",
      "       10    0.000    0.000    0.000    0.000 enum.py:1129(__new__)\n",
      "       27    0.000    0.000    0.000    0.000 enum.py:1544(_get_value)\n",
      "        7    0.000    0.000    0.000    0.000 enum.py:1551(__or__)\n",
      "        2    0.000    0.000    0.000    0.000 enum.py:1562(__and__)\n",
      "       10    0.000    0.000    0.000    0.000 enum.py:726(__call__)\n",
      "        1    0.000    0.000    0.000    0.000 events.py:36(__init__)\n",
      "        1    0.000    0.000    0.000    0.000 iostream.py:137(_event_pipe)\n",
      "        1    0.000    0.000    0.000    0.000 iostream.py:212(_is_master_process)\n",
      "        1    0.000    0.000    0.000    0.000 iostream.py:215(_check_mp_mode)\n",
      "        1    0.000    0.000    0.000    0.000 iostream.py:254(closed)\n",
      "        1    0.000    0.000    0.000    0.000 iostream.py:258(schedule)\n",
      "        1    0.000    0.000    0.000    0.000 iostream.py:275(<lambda>)\n",
      "        1    0.000    0.000    0.000    0.000 iostream.py:277(_really_send)\n",
      "        2    0.000    0.000    0.000    0.000 iostream.py:519(_is_master_process)\n",
      "        2    0.000    0.000    0.000    0.000 iostream.py:546(_schedule_flush)\n",
      "        2    0.000    0.000    0.000    0.000 iostream.py:624(write)\n",
      "        1    0.000    0.000    0.000    0.000 queue.py:209(_qsize)\n",
      "        1    0.000    0.000    0.000    0.000 queue.py:97(empty)\n",
      "      9/8    0.000    0.000    0.000    0.000 socket.py:621(send)\n",
      "        1    0.000    0.000    0.000    0.000 socket.py:698(send_multipart)\n",
      "        1    0.000    0.000    0.000    0.000 threading.py:1153(_wait_for_tstate_lock)\n",
      "        1    0.000    0.000    0.000    0.000 threading.py:1220(is_alive)\n",
      "        1    0.000    0.000    0.000    0.000 threading.py:299(__enter__)\n",
      "        1    0.000    0.000    0.000    0.000 threading.py:302(__exit__)\n",
      "        1    0.000    0.000    0.000    0.000 threading.py:394(notify)\n",
      "        1    0.000    0.000    0.000    0.000 threading.py:601(is_set)\n",
      "        1    0.000    0.000    0.000    0.000 typing.py:1194(__instancecheck__)\n",
      "        1    0.000    0.000    0.000    0.000 typing.py:1465(__subclasscheck__)\n",
      "        1    0.000    0.000    0.000    0.000 windows_events.py:704(_register_with_iocp)\n",
      "        1    0.000    0.000    0.000    0.000 zmqstream.py:562(receiving)\n",
      "        1    0.000    0.000    0.000    0.000 zmqstream.py:566(sending)\n",
      "        1    0.000    0.000    0.000    0.000 zmqstream.py:687(_rebuild_io_state)\n",
      "        1    0.000    0.000    0.000    0.000 zmqstream.py:710(_update_handler)\n",
      "        1    0.000    0.000    0.000    0.000 {built-in method _abc._abc_subclasscheck}\n",
      "        1    0.000    0.000    0.000    0.000 {built-in method _asyncio.get_running_loop}\n",
      "        1    0.000    0.000    0.000    0.000 {built-in method _contextvars.copy_context}\n",
      "        1    0.000    0.000    0.000    0.000 {built-in method builtins.getattr}\n",
      "        1    0.000    0.000    0.000    0.000 {built-in method builtins.hasattr}\n",
      "    59/57    0.000    0.000    0.000    0.000 {built-in method builtins.isinstance}\n",
      "        1    0.000    0.000    0.000    0.000 {built-in method builtins.issubclass}\n",
      "        3    0.000    0.000    0.000    0.000 {built-in method builtins.len}\n",
      "        1    0.000    0.000    0.000    0.000 {built-in method builtins.print}\n",
      "        3    0.000    0.000    0.000    0.000 {built-in method nt.getpid}\n",
      "        1    0.000    0.000    0.000    0.000 {method '__enter__' of '_thread.RLock' objects}\n",
      "        3    0.000    0.000    0.000    0.000 {method '__exit__' of '_thread.RLock' objects}\n",
      "        1    0.000    0.000    0.000    0.000 {method '__exit__' of '_thread.lock' objects}\n",
      "        1    0.000    0.000    0.000    0.000 {method '_is_owned' of '_thread.RLock' objects}\n",
      "        1    0.000    0.000    0.000    0.000 {method 'acquire' of '_thread.lock' objects}\n",
      "        2    0.000    0.000    0.000    0.000 {method 'append' of 'collections.deque' objects}\n",
      "        1    0.000    0.000    0.000    0.000 {method 'disable' of '_lsprof.Profiler' objects}\n",
      "        1    0.000    0.000    0.000    0.000 {method 'fileno' of '_socket.socket' objects}\n",
      "        2    0.000    0.000    0.000    0.000 {method 'keys' of 'dict' objects}\n",
      "        2    0.000    0.000    0.000    0.000 {method 'popleft' of 'collections.deque' objects}\n",
      "        1    0.000    0.000    0.000    0.000 {method 'release' of '_thread.lock' objects}\n",
      "        1    0.000    0.000    0.000    0.000 {method 'remove' of 'collections.deque' objects}\n",
      "        1    0.000    0.000    0.000    0.000 {method 'result' of '_asyncio.Future' objects}\n",
      "        1    0.000    0.000    0.000    0.000 {method 'upper' of 'str' objects}\n",
      "        2    0.000    0.000    0.000    0.000 {method 'write' of '_io.StringIO' objects}\n",
      "\n",
      "\n"
     ]
    }
   ],
   "source": [
    "import cProfile\n",
    "def my_function():\n",
    "    print('Amazing!')\n",
    "\n",
    "if __name__ == '__main__':\n",
    "    cProfile.run('my_function()')"
   ]
  },
  {
   "cell_type": "code",
   "execution_count": null,
   "id": "cde38a08-2f90-4058-9123-cd3606dbf9fe",
   "metadata": {},
   "outputs": [],
   "source": []
  }
 ],
 "metadata": {
  "kernelspec": {
   "display_name": "Python 3 (ipykernel)",
   "language": "python",
   "name": "python3"
  },
  "language_info": {
   "codemirror_mode": {
    "name": "ipython",
    "version": 3
   },
   "file_extension": ".py",
   "mimetype": "text/x-python",
   "name": "python",
   "nbconvert_exporter": "python",
   "pygments_lexer": "ipython3",
   "version": "3.12.3"
  }
 },
 "nbformat": 4,
 "nbformat_minor": 5
}
