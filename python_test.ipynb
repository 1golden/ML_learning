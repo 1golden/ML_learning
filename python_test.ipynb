{
 "cells": [
  {
   "cell_type": "markdown",
   "id": "09c9b381-60c5-4a61-91d4-0fb7e4233cda",
   "metadata": {},
   "source": [
    "# 一些有趣的python\n"
   ]
  },
  {
   "cell_type": "raw",
   "id": "820a0bcf-f2e4-44e6-86e2-0a0c5d8654ee",
   "metadata": {},
   "source": [
    "%env     用于设置环境变量。\r\n",
    "%ru     n用于执行Python代码。\r\n",
    "%sto   re用于访问多个笔记本之变量间的。 \r\n",
    "%%t   ime给出单执行格的执时间。\r\n",
    "%%writefile将单元格的内容保存到文件中。 \r\n",
    "%   pycat显示外部文件的内容。      \r\n",
    "%pdb用于调试。\r\n",
    "%matplotlib    inline用于抑制最后一行中函数的输\n",
    "\n",
    "详细的解释：https://cloud.tencent.com/developer/article/1562478出中函数的输出"
   ]
  },
  {
   "cell_type": "code",
   "execution_count": 22,
   "id": "469c1cf2-50de-47ff-a30d-29614f2e4957",
   "metadata": {},
   "outputs": [],
   "source": [
    "# 所用的库\n",
    "import numpy as np"
   ]
  },
  {
   "cell_type": "code",
   "execution_count": 16,
   "id": "2516174f-d3ae-43e0-8888-909b80b2d930",
   "metadata": {},
   "outputs": [
    {
     "name": "stdout",
     "output_type": "stream",
     "text": [
      "1\n",
      "2\n",
      "[3, 4, 5]\n"
     ]
    }
   ],
   "source": [
    "a, b, *_ = [1, 2, 3, 4, 5]\n",
    "print(a)\n",
    "print(b)\n",
    "print(_)"
   ]
  },
  {
   "cell_type": "code",
   "execution_count": 17,
   "id": "7a5f3112-e2e4-49bd-b4b2-b8f3b72ba656",
   "metadata": {},
   "outputs": [
    {
     "name": "stdout",
     "output_type": "stream",
     "text": [
      "Amazing!\n",
      "         119 function calls in 0.000 seconds\n",
      "\n",
      "   Ordered by: standard name\n",
      "\n",
      "   ncalls  tottime  percall  cumtime  percall filename:lineno(function)\n",
      "        1    0.000    0.000    0.000    0.000 base_events.py:2005(get_debug)\n",
      "        6    0.000    0.000    0.000    0.000 enum.py:1129(__new__)\n",
      "       18    0.000    0.000    0.000    0.000 enum.py:1544(_get_value)\n",
      "        6    0.000    0.000    0.000    0.000 enum.py:1551(__or__)\n",
      "        6    0.000    0.000    0.000    0.000 enum.py:726(__call__)\n",
      "        1    0.000    0.000    0.000    0.000 iostream.py:137(_event_pipe)\n",
      "        1    0.000    0.000    0.000    0.000 iostream.py:212(_is_master_process)\n",
      "        1    0.000    0.000    0.000    0.000 iostream.py:215(_check_mp_mode)\n",
      "        1    0.000    0.000    0.000    0.000 iostream.py:254(closed)\n",
      "        1    0.000    0.000    0.000    0.000 iostream.py:258(schedule)\n",
      "        2    0.000    0.000    0.000    0.000 iostream.py:519(_is_master_process)\n",
      "        2    0.000    0.000    0.000    0.000 iostream.py:546(_schedule_flush)\n",
      "        2    0.000    0.000    0.000    0.000 iostream.py:624(write)\n",
      "        1    0.000    0.000    0.000    0.000 queues.py:173(qsize)\n",
      "        1    0.000    0.000    0.000    0.000 queues.py:225(get)\n",
      "        1    0.000    0.000    0.000    0.000 queues.py:256(get_nowait)\n",
      "        1    0.000    0.000    0.000    0.000 queues.py:322(_consume_expired)\n",
      "        1    0.000    0.000    0.000    0.000 queues.py:59(_set_timeout)\n",
      "        8    0.000    0.000    0.000    0.000 socket.py:621(send)\n",
      "        1    0.000    0.000    0.000    0.000 threading.py:1153(_wait_for_tstate_lock)\n",
      "        1    0.000    0.000    0.000    0.000 threading.py:1220(is_alive)\n",
      "        1    0.000    0.000    0.000    0.000 threading.py:601(is_set)\n",
      "       39    0.000    0.000    0.000    0.000 {built-in method builtins.isinstance}\n",
      "        4    0.000    0.000    0.000    0.000 {built-in method builtins.len}\n",
      "        3    0.000    0.000    0.000    0.000 {built-in method nt.getpid}\n",
      "        2    0.000    0.000    0.000    0.000 {method '__exit__' of '_thread.RLock' objects}\n",
      "        1    0.000    0.000    0.000    0.000 {method 'acquire' of '_thread.lock' objects}\n",
      "        2    0.000    0.000    0.000    0.000 {method 'append' of 'collections.deque' objects}\n",
      "        1    0.000    0.000    0.000    0.000 {method 'disable' of '_lsprof.Profiler' objects}\n",
      "        1    0.000    0.000    0.000    0.000 {method 'popleft' of 'collections.deque' objects}\n",
      "        2    0.000    0.000    0.000    0.000 {method 'write' of '_io.StringIO' objects}\n",
      "\n",
      "\n"
     ]
    }
   ],
   "source": [
    "import cProfile\n",
    "def my_function():\n",
    "    print('Amazing!')\n",
    "\n",
    "if __name__ == '__main__':\n",
    "    cProfile.run('my_function()')"
   ]
  },
  {
   "cell_type": "code",
   "execution_count": 26,
   "id": "7f77f14f-0fa4-4432-b2ca-9412ead7818a",
   "metadata": {},
   "outputs": [
    {
     "name": "stderr",
     "output_type": "stream",
     "text": [
      "C:\\Users\\Dell\\AppData\\Local\\Temp\\ipykernel_20408\\87850816.py:3: TqdmDeprecationWarning: This function will be removed in tqdm==5.0.0\n",
      "Please use `tqdm.notebook.tqdm` instead of `tqdm.tqdm_notebook`\n",
      "  for i in tqdm_notebook(range(10),desc='test'):\n"
     ]
    },
    {
     "data": {
      "application/vnd.jupyter.widget-view+json": {
       "model_id": "2ad2ce5782cc47338b4ddf0dfa555f5e",
       "version_major": 2,
       "version_minor": 0
      },
      "text/plain": [
       "test:   0%|          | 0/10 [00:00<?, ?it/s]"
      ]
     },
     "metadata": {},
     "output_type": "display_data"
    }
   ],
   "source": [
    "from tqdm import tqdm_notebook\n",
    "from time import sleep\n",
    "for i in tqdm_notebook(range(10),desc='test'):\n",
    "    sleep(0.2)"
   ]
  },
  {
   "cell_type": "code",
   "execution_count": 18,
   "id": "cde38a08-2f90-4058-9123-cd3606dbf9fe",
   "metadata": {},
   "outputs": [
    {
     "name": "stdout",
     "output_type": "stream",
     "text": [
      "[0 1 2 3 4 5]\n",
      "[[0 1]\n",
      " [2 3]\n",
      " [4 5]]\n",
      "CPU times: total: 0 ns\n",
      "Wall time: 988 µs\n"
     ]
    }
   ],
   "source": [
    "%%time\n",
    "a = np.arange(6)\n",
    "print(a)\n",
    "a.shape= 3,2\n",
    "print(a)"
   ]
  },
  {
   "cell_type": "code",
   "execution_count": null,
   "id": "18d1d9f6-ae63-47f8-a1ea-9f821051eb99",
   "metadata": {},
   "outputs": [],
   "source": [
    "# jupyter notebook 小技巧: 利用 ！ 运行 Shell 和 Bash 命令\n",
    "!pip install numpy\n",
    "!git add .\n",
    "!git commit -m 'Update' \n",
    "!git push"
   ]
  },
  {
   "cell_type": "code",
   "execution_count": 43,
   "id": "6c2a3dc7-3b80-492f-b257-09cab76af903",
   "metadata": {},
   "outputs": [
    {
     "name": "stdout",
     "output_type": "stream",
     "text": [
      "   a  b  c\n",
      "0  1  2  3\n",
      "1  4  5  6\n"
     ]
    },
    {
     "data": {
      "text/html": [
       "<div>\n",
       "<style scoped>\n",
       "    .dataframe tbody tr th:only-of-type {\n",
       "        vertical-align: middle;\n",
       "    }\n",
       "\n",
       "    .dataframe tbody tr th {\n",
       "        vertical-align: top;\n",
       "    }\n",
       "\n",
       "    .dataframe thead th {\n",
       "        text-align: right;\n",
       "    }\n",
       "</style>\n",
       "<table border=\"1\" class=\"dataframe\">\n",
       "  <thead>\n",
       "    <tr style=\"text-align: right;\">\n",
       "      <th></th>\n",
       "      <th>0</th>\n",
       "    </tr>\n",
       "  </thead>\n",
       "  <tbody>\n",
       "    <tr>\n",
       "      <th>a</th>\n",
       "      <td>1</td>\n",
       "    </tr>\n",
       "    <tr>\n",
       "      <th>c</th>\n",
       "      <td>3</td>\n",
       "    </tr>\n",
       "  </tbody>\n",
       "</table>\n",
       "</div>"
      ],
      "text/plain": [
       "   0\n",
       "a  1\n",
       "c  3"
      ]
     },
     "execution_count": 43,
     "metadata": {},
     "output_type": "execute_result"
    }
   ],
   "source": [
    "# 通过 shift+tab 快捷键，可以在jupyter notebook 内直接打开函数的说明文档\n",
    "import pandas as pd\n",
    "df = pd.DataFrame(data=[[1, 2, 3], [4, 5, 6]],columns=['a','b','c'])\n",
    "print(df)\n",
    "ser = pd.Series([1, 2, 3], index=[\"a\", \"b\", \"c\"])\n",
    "df = pd.DataFrame(data=ser, index=[\"a\", \"c\"])\n",
    "df"
   ]
  },
  {
   "cell_type": "code",
   "execution_count": null,
   "id": "ca9ea3d3-5a3b-40c4-b135-2ae3684bab43",
   "metadata": {},
   "outputs": [],
   "source": []
  }
 ],
 "metadata": {
  "kernelspec": {
   "display_name": "Python 3 (ipykernel)",
   "language": "python",
   "name": "python3"
  },
  "language_info": {
   "codemirror_mode": {
    "name": "ipython",
    "version": 3
   },
   "file_extension": ".py",
   "mimetype": "text/x-python",
   "name": "python",
   "nbconvert_exporter": "python",
   "pygments_lexer": "ipython3",
   "version": "3.12.3"
  }
 },
 "nbformat": 4,
 "nbformat_minor": 5
}
